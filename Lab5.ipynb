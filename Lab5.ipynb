{
 "cells": [
  {
   "cell_type": "markdown",
   "id": "1d2cc71f",
   "metadata": {},
   "source": [
    "THUC HANH 5"
   ]
  },
  {
   "cell_type": "code",
   "execution_count": 3,
   "id": "59bd5b55",
   "metadata": {},
   "outputs": [
    {
     "name": "stdout",
     "output_type": "stream",
     "text": [
      "[[1 2]\n",
      " [3 4]]\n",
      "[[1 2]\n",
      " [3 4]]\n"
     ]
    }
   ],
   "source": [
    "D = np.array([[1,2],[3,4]])\n",
    "np.copyto(E, D)\n",
    "print(E)\n",
    "\n",
    "E = np.array([[1,2],[3,5]])\n",
    "np.copyto(E, D)\n",
    "print(E)\n"
   ]
  },
  {
   "cell_type": "code",
   "execution_count": 4,
   "id": "d70c290e",
   "metadata": {},
   "outputs": [
    {
     "ename": "ValueError",
     "evalue": "setting an array element with a sequence. The requested array has an inhomogeneous shape after 2 dimensions. The detected shape was (2, 2) + inhomogeneous part.",
     "output_type": "error",
     "traceback": [
      "\u001b[31m---------------------------------------------------------------------------\u001b[39m",
      "\u001b[31mValueError\u001b[39m                                Traceback (most recent call last)",
      "\u001b[36mCell\u001b[39m\u001b[36m \u001b[39m\u001b[32mIn[4]\u001b[39m\u001b[32m, line 3\u001b[39m\n\u001b[32m      1\u001b[39m x = np.array([[\u001b[33m'\u001b[39m\u001b[33ma\u001b[39m\u001b[33m'\u001b[39m,\u001b[33m'\u001b[39m\u001b[33mb\u001b[39m\u001b[33m'\u001b[39m],[\u001b[33m'\u001b[39m\u001b[33mc\u001b[39m\u001b[33m'\u001b[39m,\u001b[33m'\u001b[39m\u001b[33md\u001b[39m\u001b[33m'\u001b[39m]])\n\u001b[32m      2\u001b[39m y = \u001b[33m'\u001b[39m\u001b[33mx\u001b[39m\u001b[33m'\u001b[39m\n\u001b[32m----> \u001b[39m\u001b[32m3\u001b[39m C = \u001b[43mnp\u001b[49m\u001b[43m.\u001b[49m\u001b[43mmatrix\u001b[49m\u001b[43m(\u001b[49m\u001b[43m[\u001b[49m\u001b[43m[\u001b[49m\u001b[43mx\u001b[49m\u001b[43m,\u001b[49m\u001b[43m \u001b[49m\u001b[43my\u001b[49m\u001b[43m]\u001b[49m\u001b[43m,\u001b[49m\u001b[43m \u001b[49m\u001b[43m[\u001b[49m\u001b[32;43m1\u001b[39;49m\u001b[43m,\u001b[49m\u001b[43m \u001b[49m\u001b[32;43m2\u001b[39;49m\u001b[43m]\u001b[49m\u001b[43m]\u001b[49m\u001b[43m)\u001b[49m\n\u001b[32m      4\u001b[39m \u001b[38;5;28mprint\u001b[39m(C)\n",
      "\u001b[36mFile \u001b[39m\u001b[32mc:\\đại số\\LAb3\\.venv\\Lib\\site-packages\\numpy\\matrixlib\\defmatrix.py:152\u001b[39m, in \u001b[36mmatrix.__new__\u001b[39m\u001b[34m(subtype, data, dtype, copy)\u001b[39m\n\u001b[32m    150\u001b[39m \u001b[38;5;66;03m# now convert data to an array\u001b[39;00m\n\u001b[32m    151\u001b[39m copy = \u001b[38;5;28;01mNone\u001b[39;00m \u001b[38;5;28;01mif\u001b[39;00m \u001b[38;5;129;01mnot\u001b[39;00m copy \u001b[38;5;28;01melse\u001b[39;00m \u001b[38;5;28;01mTrue\u001b[39;00m\n\u001b[32m--> \u001b[39m\u001b[32m152\u001b[39m arr = \u001b[43mN\u001b[49m\u001b[43m.\u001b[49m\u001b[43marray\u001b[49m\u001b[43m(\u001b[49m\u001b[43mdata\u001b[49m\u001b[43m,\u001b[49m\u001b[43m \u001b[49m\u001b[43mdtype\u001b[49m\u001b[43m=\u001b[49m\u001b[43mdtype\u001b[49m\u001b[43m,\u001b[49m\u001b[43m \u001b[49m\u001b[43mcopy\u001b[49m\u001b[43m=\u001b[49m\u001b[43mcopy\u001b[49m\u001b[43m)\u001b[49m\n\u001b[32m    153\u001b[39m ndim = arr.ndim\n\u001b[32m    154\u001b[39m shape = arr.shape\n",
      "\u001b[31mValueError\u001b[39m: setting an array element with a sequence. The requested array has an inhomogeneous shape after 2 dimensions. The detected shape was (2, 2) + inhomogeneous part."
     ]
    }
   ],
   "source": [
    "x = np.array([['a','b'],['c','d']])\n",
    "y = 'x'\n",
    "C = np.matrix([[x, y], [1, 2]])\n",
    "print(C)\n"
   ]
  },
  {
   "cell_type": "code",
   "execution_count": 6,
   "id": "23f2088c",
   "metadata": {},
   "outputs": [
    {
     "ename": "ValueError",
     "evalue": "matrix must be 2-dimensional",
     "output_type": "error",
     "traceback": [
      "\u001b[31m---------------------------------------------------------------------------\u001b[39m",
      "\u001b[31mValueError\u001b[39m                                Traceback (most recent call last)",
      "\u001b[36mCell\u001b[39m\u001b[36m \u001b[39m\u001b[32mIn[6]\u001b[39m\u001b[32m, line 1\u001b[39m\n\u001b[32m----> \u001b[39m\u001b[32m1\u001b[39m A = \u001b[43mnp\u001b[49m\u001b[43m.\u001b[49m\u001b[43mmatrix\u001b[49m\u001b[43m(\u001b[49m\u001b[43m[\u001b[49m\u001b[43m[\u001b[49m\u001b[43m[\u001b[49m\u001b[32;43m1\u001b[39;49m\u001b[43m,\u001b[49m\u001b[32;43m2\u001b[39;49m\u001b[43m]\u001b[49m\u001b[43m,\u001b[49m\u001b[43m[\u001b[49m\u001b[32;43m3\u001b[39;49m\u001b[43m,\u001b[49m\u001b[32;43m4\u001b[39;49m\u001b[43m]\u001b[49m\u001b[43m]\u001b[49m\u001b[43m,\u001b[49m\u001b[43m[\u001b[49m\u001b[43m[\u001b[49m\u001b[32;43m5\u001b[39;49m\u001b[43m,\u001b[49m\u001b[32;43m6\u001b[39;49m\u001b[43m]\u001b[49m\u001b[43m,\u001b[49m\u001b[43m[\u001b[49m\u001b[32;43m7\u001b[39;49m\u001b[43m,\u001b[49m\u001b[32;43m8\u001b[39;49m\u001b[43m]\u001b[49m\u001b[43m]\u001b[49m\u001b[43m]\u001b[49m\u001b[43m)\u001b[49m\n\u001b[32m      3\u001b[39m \u001b[38;5;28mprint\u001b[39m(A)\n",
      "\u001b[36mFile \u001b[39m\u001b[32mc:\\đại số\\LAb3\\.venv\\Lib\\site-packages\\numpy\\matrixlib\\defmatrix.py:156\u001b[39m, in \u001b[36mmatrix.__new__\u001b[39m\u001b[34m(subtype, data, dtype, copy)\u001b[39m\n\u001b[32m    154\u001b[39m shape = arr.shape\n\u001b[32m    155\u001b[39m \u001b[38;5;28;01mif\u001b[39;00m (ndim > \u001b[32m2\u001b[39m):\n\u001b[32m--> \u001b[39m\u001b[32m156\u001b[39m     \u001b[38;5;28;01mraise\u001b[39;00m \u001b[38;5;167;01mValueError\u001b[39;00m(\u001b[33m\"\u001b[39m\u001b[33mmatrix must be 2-dimensional\u001b[39m\u001b[33m\"\u001b[39m)\n\u001b[32m    157\u001b[39m \u001b[38;5;28;01melif\u001b[39;00m ndim == \u001b[32m0\u001b[39m:\n\u001b[32m    158\u001b[39m     shape = (\u001b[32m1\u001b[39m, \u001b[32m1\u001b[39m)\n",
      "\u001b[31mValueError\u001b[39m: matrix must be 2-dimensional"
     ]
    }
   ],
   "source": [
    "A = np.matrix([[[1,2],[3,4]],[[5,6],[7,8]]])\n",
    "\n",
    "print(A)\n"
   ]
  },
  {
   "cell_type": "code",
   "execution_count": 7,
   "id": "8e9a2c94",
   "metadata": {},
   "outputs": [
    {
     "name": "stdout",
     "output_type": "stream",
     "text": [
      "[[[1 2]\n",
      "  [3 4]]\n",
      "\n",
      " [[5 6]\n",
      "  [7 8]]]\n"
     ]
    }
   ],
   "source": [
    "A = np.array([[[1,2],[3,4]],[[5,6],[7,8]]])\n",
    "print(A)\n"
   ]
  },
  {
   "cell_type": "code",
   "execution_count": 8,
   "id": "b6a218a8",
   "metadata": {},
   "outputs": [
    {
     "name": "stdout",
     "output_type": "stream",
     "text": [
      "[[1. 0. 0. 0. 0.]\n",
      " [0. 1. 0. 0. 0.]\n",
      " [0. 0. 1. 0. 0.]\n",
      " [0. 0. 0. 1. 0.]\n",
      " [0. 0. 0. 0. 1.]]\n",
      "[[-0.3821236  -0.36876713]\n",
      " [ 0.88043291  0.24729674]\n",
      " [ 1.38918761  1.75914205]]\n",
      "[[0. 0. 0. 0.]\n",
      " [0. 0. 0. 0.]\n",
      " [0. 0. 0. 0.]\n",
      " [0. 0. 0. 0.]]\n"
     ]
    }
   ],
   "source": [
    "from numpy import matlib\n",
    "G = matlib.identity(5)\n",
    "print(G)\n",
    "\n",
    "H = matlib.randn(3,2)\n",
    "print(H)\n",
    "\n",
    "K = matlib.zeros([4,4])\n",
    "print(K)\n",
    "\n",
    "\n"
   ]
  },
  {
   "cell_type": "code",
   "execution_count": 11,
   "id": "5b797283",
   "metadata": {},
   "outputs": [
    {
     "name": "stdout",
     "output_type": "stream",
     "text": [
      "[[165707065  80143857]\n",
      " [ 52746197  25510582]]\n",
      "3.1415926535897936\n"
     ]
    }
   ],
   "source": [
    "import numpy as np\n",
    "\n",
    "c = [3, 7, 15, 1, 292, 1, 1, 1, 2, 1, 3, 1, 14, 2]\n",
    "\n",
    "M = np.asmatrix([[1, 0], [0, 1]])\n",
    "\n",
    "for i in range(len(c)):\n",
    "    ci = np.asmatrix([[c[i], 1], [1, 0]])\n",
    "    if i == 0:\n",
    "        M = ci\n",
    "    else:\n",
    "        M = M * ci\n",
    "\n",
    "print(M)\n",
    "print(M[0, 0] / M[1, 0])\n",
    "\n"
   ]
  },
  {
   "cell_type": "code",
   "execution_count": 12,
   "id": "9fdd382d",
   "metadata": {},
   "outputs": [
    {
     "name": "stdout",
     "output_type": "stream",
     "text": [
      "[-0.2  1.2]\n",
      "0.8000000000000003\n"
     ]
    }
   ],
   "source": [
    "import numpy as np\n",
    "\n",
    "X = np.array([\n",
    "    [1, 1],\n",
    "    [1, 2],\n",
    "    [1, 3],\n",
    "    [1, 4],\n",
    "    [1, 5]\n",
    "])\n",
    "Y = np.array([1, 2, 4, 4, 6])\n",
    "\n",
    "XT = X.T\n",
    "\n",
    "A1 = np.linalg.inv(XT.dot(X))\n",
    "A2 = XT.dot(Y)\n",
    "\n",
    "A = A1.dot(A2)\n",
    "print(A)\n",
    "\n",
    "Y_pred = X.dot(A)\n",
    "\n",
    "error = np.sum((Y - Y_pred) ** 2)\n",
    "print(error)\n"
   ]
  },
  {
   "cell_type": "code",
   "execution_count": 13,
   "id": "74cee585",
   "metadata": {},
   "outputs": [
    {
     "name": "stdout",
     "output_type": "stream",
     "text": [
      "[10.2 -1.9]\n"
     ]
    }
   ],
   "source": [
    "#BAI TAP CHUONG 5\n",
    "# BAI 1\n",
    "import numpy as np\n",
    "\n",
    "X = np.array([\n",
    "    [1, 0],\n",
    "    [1, 1],\n",
    "    [1, 2],\n",
    "    [1, 3],\n",
    "    [1, 4]\n",
    "])\n",
    "Y = np.array([10, 8, 7, 5, 2])\n",
    "\n",
    "XT = X.T\n",
    "\n",
    "A1 = np.linalg.inv(XT.dot(X))\n",
    "A2 = XT.dot(Y)\n",
    "\n",
    "A = A1.dot(A2)\n",
    "print(A)\n"
   ]
  }
 ],
 "metadata": {
  "kernelspec": {
   "display_name": ".venv",
   "language": "python",
   "name": "python3"
  },
  "language_info": {
   "codemirror_mode": {
    "name": "ipython",
    "version": 3
   },
   "file_extension": ".py",
   "mimetype": "text/x-python",
   "name": "python",
   "nbconvert_exporter": "python",
   "pygments_lexer": "ipython3",
   "version": "3.13.2"
  }
 },
 "nbformat": 4,
 "nbformat_minor": 5
}
