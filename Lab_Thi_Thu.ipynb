{
 "cells": [
  {
   "cell_type": "markdown",
   "id": "a1e4ffed",
   "metadata": {},
   "source": [
    "Thi Thử"
   ]
  },
  {
   "cell_type": "code",
   "execution_count": null,
   "id": "887a352f",
   "metadata": {},
   "outputs": [
    {
     "name": "stdout",
     "output_type": "stream",
     "text": [
      "a) Tổng A + B: [3 3 1 5]\n",
      " Tích số 3A - 2B: [  4 -11  13 -10]\n",
      "b) Tích vô hướng A.B: -8\n",
      "   Góc giữa A và B (độ): 108.376\n",
      "c) \n",
      "Tích ma trận: [[ 5  0 -1]\n",
      " [ 0 14 10]\n",
      " [-1 10 17]]\n"
     ]
    }
   ],
   "source": [
    "#Câu 1 \n",
    "import numpy as np\n",
    "import math\n",
    "\n",
    "# a)\n",
    "A = np.array([2, -1, 3, 0])\n",
    "B = np.array([1, 4, -2, 5])\n",
    "cong_AB = A + B\n",
    "Ketqua = 3 * A - 2 * B\n",
    "print(\"a) Tổng A + B:\",cong_AB)\n",
    "print(\" Tích số 3A - 2B:\", Ketqua)\n",
    "\n",
    "# b)\n",
    "tich_vohuong = np.dot(A, B)\n",
    "\n",
    "dodai_A = np.linalg.norm(A)\n",
    "dodai_B = np.linalg.norm(B)\n",
    "cos = tich_vohuong / (dodai_A * dodai_B)\n",
    "rad = np.arccos(cos)\n",
    "doi_sang_do = np.degrees(rad)\n",
    "print(\"b) Tích vô hướng A.B:\",tich_vohuong)\n",
    "print(\"   Góc giữa A và B (độ):\", round(doi_sang_do, 3))\n",
    "\n",
    "# c) \n",
    "C = np.array([\n",
    "    [1, 2, -1],\n",
    "    [0, 3, 4],\n",
    "    [2, -1, 0]\n",
    "])\n",
    "\n",
    "chuyen_vi = C.T\n",
    "CtC = np.dot(chuyen_vi, C)\n",
    "print(\"c) \")\n",
    "print(\"Tích ma trận:\",CtC)"
   ]
  },
  {
   "cell_type": "code",
   "execution_count": null,
   "id": "81440d45",
   "metadata": {},
   "outputs": [
    {
     "name": "stdout",
     "output_type": "stream",
     "text": [
      "a) Tích ma trận M x N:\n",
      "[[ 32  38  44  50]\n",
      " [ 80  96 112 128]\n",
      " [128 154 180 206]\n",
      " [ 12  14  16  18]]\n",
      "b) Định thức của M: 0.0\n",
      "Ma trận M không khả nghịch vì định thức = 0.\n",
      "c) Hạng của N = 2\n"
     ]
    }
   ],
   "source": [
    "#Câu 2\n",
    "import numpy as np\n",
    "M = np.array([\n",
    "    [1, 2, 3, 0],\n",
    "    [4, 5, 6, 1],\n",
    "    [7, 8, 9, 2],\n",
    "    [0, 1, 1, 0]\n",
    "])\n",
    "\n",
    "N = np.array([\n",
    "    [0, 1, 2, 3],\n",
    "    [4, 5, 6, 7],\n",
    "    [8, 9, 10, 11],\n",
    "    [12, 13, 14, 15]\n",
    "])\n",
    "\n",
    "# a) \n",
    "tich = np.dot(M, N)\n",
    "print(\"a) Tích ma trận M x N:\")\n",
    "print(tich)\n",
    "\n",
    "# b)\n",
    "det_M = np.linalg.det(M)\n",
    "print(\"b) Định thức của M:\",round(det_M, 3))\n",
    "# Giải thích\n",
    "if round(det_M, 3) == 0:\n",
    "    print(\"Ma trận M không khả nghịch vì định thức = 0.\")\n",
    "\n",
    "# c) Tính hạng của ma trận N\n",
    "hang_N = np.linalg.matrix_rank(N)\n",
    "print(\"c) Hạng của N =\", hang_N)\n"
   ]
  },
  {
   "cell_type": "code",
   "execution_count": 19,
   "id": "24e025ce",
   "metadata": {},
   "outputs": [
    {
     "name": "stdout",
     "output_type": "stream",
     "text": [
      "a) Ma trận nghịch đảo của P là:\n",
      " [[ 0.488 -0.093  0.023 -0.209]\n",
      " [ 0.035  0.279 -0.07   0.128]\n",
      " [-0.116  0.07   0.233 -0.093]\n",
      " [-0.012 -0.093  0.023  0.291]]\n",
      "b) Nghiệm của hệ phương trình là:\n",
      " [0.465 2.105 1.651 0.965]\n",
      "c) Kiểm tra P·x = b:\n",
      "P·x = [4. 7. 9. 5.]\n",
      "b     = [4 7 9 5]\n",
      "Đúng\n"
     ]
    }
   ],
   "source": [
    "#Câu 3\n",
    "import numpy as np\n",
    "P = np.array([\n",
    "    [2, 1, 0, 1],\n",
    "    [0, 3, 1, -1],\n",
    "    [1, 0, 4, 2],\n",
    "    [0, 1, 0, 3]\n",
    "])\n",
    "\n",
    "b = np.array([4, 7, 9, 5])\n",
    "\n",
    "# a)\n",
    "try:\n",
    "    ngich_dao_P = np.linalg.inv(P)\n",
    "    print(\"a) Ma trận nghịch đảo của P là:\\n\", np.round(ngich_dao_P, 3))\n",
    "except np.linalg.LinAlgError:\n",
    "    print(\"Ma trận P không khả nghịch (định thức = 0)\")\n",
    "\n",
    "# b) \n",
    "try:\n",
    "    x = np.dot(ngich_dao_P, b)\n",
    "    print(\"b) Nghiệm của hệ phương trình là:\\n\", np.round(x, 3))\n",
    "except:\n",
    "    print(\"Không thể giải vì P không khả nghịch.\")\n",
    "\n",
    "# c) \n",
    "try:\n",
    "    ktra = np.dot(P, x)\n",
    "    print(\"c) Kiểm tra P·x = b:\\nP·x =\", np.round(ktra, 3))\n",
    "    print(\"b     =\", b)\n",
    "    print(\"Đúng\" if np.allclose(ktra, b) else \"Sai\")\n",
    "except:\n",
    "    print(\"Không thể kiểm tra vì không có nghiệm.\")\n"
   ]
  },
  {
   "cell_type": "code",
   "execution_count": 25,
   "id": "fecb70b2",
   "metadata": {},
   "outputs": [
    {
     "name": "stdout",
     "output_type": "stream",
     "text": [
      "a) Các giá trị riêng của Q là:\n",
      "[3.45339765+0.j         2.77330117+1.46771151j 2.77330117-1.46771151j]\n",
      "b) Các vector riêng tương ứng là:\n",
      "[[ 0.83327121+0.j         -0.26206044-0.31354813j -0.26206044+0.31354813j]\n",
      " [ 0.455468  +0.j         -0.78166743+0.j         -0.78166743-0.j        ]\n",
      " [ 0.31338154+0.j         -0.21963176+0.41685708j -0.21963176-0.41685708j]]\n",
      "c) Các vector riêng đã chuẩn hoá (độ dài = 1):\n",
      "[3.453+0.j    2.773+1.468j 2.773-1.468j]\n"
     ]
    }
   ],
   "source": [
    "#Câu 4\n",
    "import numpy as np\n",
    "Q = np.array([\n",
    "    [4, -1, 0],\n",
    "    [1,  3, -2],\n",
    "    [0,  1,  2]\n",
    "])\n",
    "\n",
    "# a)\n",
    "giatri_rieng, vertor_rieng = np.linalg.eig(Q)\n",
    "print(\"a) Các giá trị riêng của Q là:\")\n",
    "print(giatri_rieng)\n",
    "\n",
    "# b) \n",
    "print(\"b) Các vector riêng tương ứng là:\")\n",
    "print(vertor_rieng)\n",
    "\n",
    "# c) \n",
    "chuan_hoa = giatri_rieng / np.linalg.norm(vertor_rieng, axis=0)\n",
    "chuan_hoa = np.round(chuan_hoa, 3)\n",
    "\n",
    "print(\"c) Các vector riêng đã chuẩn hoá (độ dài = 1):\")\n",
    "print(chuan_hoa)\n"
   ]
  },
  {
   "cell_type": "code",
   "execution_count": 30,
   "id": "88c88760",
   "metadata": {},
   "outputs": [
    {
     "name": "stdout",
     "output_type": "stream",
     "text": [
      "a) Nghiệm của hệ Rx = b là:\n",
      "[2.783 0.043 2.435]\n",
      "b) Định thức của R = 23.0\n",
      "Ma trận R khả nghịch. Ma trận nghịch đảo R^(-1) là:\n",
      "[[-0.043  0.478 -0.087]\n",
      " [-0.391  0.304  0.217]\n",
      " [ 0.087  0.043  0.174]]\n",
      "Nghiệm khi dùng nghịch đảo R^(-1) · b là: [2.783 0.043 2.435]\n",
      "Hai nghiệm giống nhau: True\n",
      "c) Chuẩn Frobenius của ma trận R là: 6.083\n"
     ]
    }
   ],
   "source": [
    "#Câu 5\n",
    "import numpy as np\n",
    "R = np.array([\n",
    "    [1, -2, 3],\n",
    "    [2, 0, 1],\n",
    "    [-1, 1, 4]\n",
    "])\n",
    "b = np.array([10, 8, 7])\n",
    "\n",
    "# a)\n",
    "x = np.linalg.solve(R, b)\n",
    "x = np.round(x, 3)\n",
    "print(\"a) Nghiệm của hệ Rx = b là:\")\n",
    "print(x)\n",
    "\n",
    "# b)\n",
    "det_R = np.linalg.det(R)\n",
    "print(\"b) Định thức của R =\", round(det_R, 3))\n",
    "if det_R != 0:\n",
    "    R_inv = np.linalg.inv(R)\n",
    "    ktra_x = np.dot(R_inv, b)\n",
    "    ktra_x = np.round(ktra_x, 3)\n",
    "    \n",
    "    print(\"Ma trận R khả nghịch. Ma trận nghịch đảo R^(-1) là:\")\n",
    "    print(np.round(R_inv, 3))\n",
    "    print(\"Nghiệm khi dùng nghịch đảo R^(-1) · b là:\", ktra_x)\n",
    "    \n",
    "    print(\"Hai nghiệm giống nhau:\", np.allclose(x, ktra_x))\n",
    "else:\n",
    "    print(\"Ma trận R không khả nghịch.\")\n",
    "\n",
    "# c) \n",
    "frobenius = np.linalg.norm(R, 'fro')\n",
    "frobenius = round(frobenius, 3)\n",
    "print(\"c) Chuẩn Frobenius của ma trận R là:\", frobenius)\n"
   ]
  }
 ],
 "metadata": {
  "kernelspec": {
   "display_name": "Python 3",
   "language": "python",
   "name": "python3"
  },
  "language_info": {
   "codemirror_mode": {
    "name": "ipython",
    "version": 3
   },
   "file_extension": ".py",
   "mimetype": "text/x-python",
   "name": "python",
   "nbconvert_exporter": "python",
   "pygments_lexer": "ipython3",
   "version": "3.13.2"
  }
 },
 "nbformat": 4,
 "nbformat_minor": 5
}
