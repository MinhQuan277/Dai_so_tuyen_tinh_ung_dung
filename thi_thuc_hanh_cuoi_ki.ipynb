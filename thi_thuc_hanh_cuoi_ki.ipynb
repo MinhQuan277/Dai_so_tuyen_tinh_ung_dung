{
 "cells": [
  {
   "cell_type": "code",
   "execution_count": null,
   "id": "e2f4cd87",
   "metadata": {},
   "outputs": [],
   "source": [
    "THI THỰC HÀNH "
   ]
  },
  {
   "cell_type": "code",
   "execution_count": null,
   "id": "26cbbfb9",
   "metadata": {},
   "outputs": [
    {
     "name": "stdout",
     "output_type": "stream",
     "text": [
      "Tổng A + B là :  [2 3 1 6]\n",
      "Tích số 2A + 3B là:  [ 3 11  2 14]\n"
     ]
    }
   ],
   "source": [
    "#BÀI 1\n",
    "import numpy as np \n",
    "import math \n",
    "\n",
    "# Câu a\n",
    "A = np.array([3, -2, 1, 4])\n",
    "B = np.array([-1, 5, 0, 2])\n",
    "\n",
    "tong_AB = A + B\n",
    "tich_so_AB = 2 * A + 3 * B\n",
    "print(\"a)\")\n",
    "print(\"Tổng A + B là : \", tong_AB)\n",
    "print(\"Tích số 2A + 3B là: \", tich_so_AB)\n",
    "\n",
    "# Câu b\n",
    "\n",
    "\n"
   ]
  }
 ],
 "metadata": {
  "kernelspec": {
   "display_name": "Python 3",
   "language": "python",
   "name": "python3"
  },
  "language_info": {
   "codemirror_mode": {
    "name": "ipython",
    "version": 3
   },
   "file_extension": ".py",
   "mimetype": "text/x-python",
   "name": "python",
   "nbconvert_exporter": "python",
   "pygments_lexer": "ipython3",
   "version": "3.13.2"
  }
 },
 "nbformat": 4,
 "nbformat_minor": 5
}
