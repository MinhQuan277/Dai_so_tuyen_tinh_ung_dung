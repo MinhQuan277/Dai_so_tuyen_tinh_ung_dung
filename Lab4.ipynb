{
 "cells": [
  {
   "cell_type": "markdown",
   "id": "285e580e",
   "metadata": {},
   "source": [
    "BAI THUC HANH 4\n"
   ]
  },
  {
   "cell_type": "code",
   "execution_count": null,
   "id": "ccce5fa0",
   "metadata": {},
   "outputs": [],
   "source": [
    "#bai 1 \n",
    "\n"
   ]
  }
 ],
 "metadata": {
  "language_info": {
   "name": "python"
  }
 },
 "nbformat": 4,
 "nbformat_minor": 5
}
