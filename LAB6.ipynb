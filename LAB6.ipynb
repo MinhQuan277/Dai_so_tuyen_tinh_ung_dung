{
 "cells": [
  {
   "cell_type": "markdown",
   "id": "e0c68951",
   "metadata": {},
   "source": [
    "THUC HANH 6"
   ]
  },
  {
   "cell_type": "code",
   "execution_count": 1,
   "id": "4261df21",
   "metadata": {},
   "outputs": [
    {
     "name": "stdout",
     "output_type": "stream",
     "text": [
      "32\n"
     ]
    }
   ],
   "source": [
    "import numpy as np\n",
    "\n",
    "a = np.array([1,2,3])\n",
    "b = np.array([4,5,6])\n",
    "\n",
    "tich = np.inner(a,b)\n",
    "print(tich)\n"
   ]
  },
  {
   "cell_type": "code",
   "execution_count": 2,
   "id": "a8a9c928",
   "metadata": {},
   "outputs": [
    {
     "data": {
      "text/plain": [
       "np.float64(6.0)"
      ]
     },
     "execution_count": 2,
     "metadata": {},
     "output_type": "execute_result"
    }
   ],
   "source": [
    "import numpy as np\n",
    "\n",
    "a = np.array([1,2,-3])\n",
    "np.linalg.norm(a) \n",
    "\n",
    "a = np.array([1,2,-3])\n",
    "np.linalg.norm(a, 1)\n"
   ]
  },
  {
   "cell_type": "code",
   "execution_count": 3,
   "id": "3020b242",
   "metadata": {},
   "outputs": [
    {
     "name": "stdout",
     "output_type": "stream",
     "text": [
      "6.0\n",
      "6.0\n",
      "3.7416573867739413\n",
      "3.7416573867739413\n",
      "3.3019272488946263\n",
      "3.3019272488946263\n",
      "1.0442214818467515\n",
      "inf\n"
     ]
    },
    {
     "name": "stderr",
     "output_type": "stream",
     "text": [
      "c:\\đại số\\LAb3\\.venv\\Lib\\site-packages\\numpy\\linalg\\_linalg.py:2835: RuntimeWarning: overflow encountered in power\n",
      "  absx **= ord\n"
     ]
    }
   ],
   "source": [
    "import math\n",
    "import numpy as np\n",
    "\n",
    "def chuan(v, k):\n",
    "    tong = 0\n",
    "    for i in range(len(v)):\n",
    "        tong += abs(v[i])**k\n",
    "    ketqua = math.pow(tong, 1.0/k)\n",
    "    return ketqua\n",
    "\n",
    "a = np.array([1,2,-3])\n",
    "\n",
    "print(chuan(a,1))\n",
    "print(np.linalg.norm(a,1))\n",
    "\n",
    "print(chuan(a,2))\n",
    "print(np.linalg.norm(a,2))\n",
    "\n",
    "print(chuan(a,3))\n",
    "print(np.linalg.norm(a,3))\n",
    "\n",
    "print(chuan(a,1000))\n",
    "print(np.linalg.norm(a,1000))\n"
   ]
  },
  {
   "cell_type": "code",
   "execution_count": 4,
   "id": "16b4b601",
   "metadata": {},
   "outputs": [
    {
     "name": "stdout",
     "output_type": "stream",
     "text": [
      "[[ 5  4 -4 -9]\n",
      " [-4  3 -3  8]\n",
      " [ 3 -2 -1  6]]\n",
      "[1.3 0.9 0. ]\n"
     ]
    }
   ],
   "source": [
    "import numpy as np\n",
    "\n",
    "m = 10\n",
    "v1 = np.array([5,-4,3])\n",
    "v2 = np.array([4,3,-2])\n",
    "v3 = np.array([-4,-3,-1])\n",
    "v4 = np.array([-9,8,6])\n",
    "mi = np.array([2,5,2,1])\n",
    "\n",
    "M = np.array([v1,v2,v3,v4])\n",
    "MT = M.transpose()\n",
    "print(MT)\n",
    "\n",
    "v = (1.0/m) * MT.dot(mi)\n",
    "print(v)\n"
   ]
  },
  {
   "cell_type": "code",
   "execution_count": 5,
   "id": "509c0131",
   "metadata": {},
   "outputs": [
    {
     "name": "stdout",
     "output_type": "stream",
     "text": [
      "[0.98550723 0.01449277]\n"
     ]
    }
   ],
   "source": [
    "import numpy as np\n",
    "\n",
    "A = np.array([[0.998, 0.136],\n",
    "              [0.002, 0.864]])\n",
    "\n",
    "v0 = np.array([0.95, 0.05])\n",
    "\n",
    "A100 = np.linalg.matrix_power(A, 100)\n",
    "\n",
    "v100 = A100.dot(v0)\n",
    "print(v100)\n"
   ]
  },
  {
   "cell_type": "code",
   "execution_count": 7,
   "id": "5e1743a8",
   "metadata": {},
   "outputs": [
    {
     "name": "stdout",
     "output_type": "stream",
     "text": [
      "⎧   68         ⎫\n",
      "⎨x: ──, y: 1/69⎬\n",
      "⎩   69         ⎭\n"
     ]
    }
   ],
   "source": [
    "import sympy as sym\n",
    "\n",
    "x, y = sym.symbols('x y')\n",
    "xy = sym.Matrix([x, y])\n",
    "A = sym.Matrix([[1, -68],\n",
    "                [1,  1]])\n",
    "v = sym.Matrix([0, 1])\n",
    "\n",
    "nghiem = sym.solve([A * xy - v])\n",
    "print(sym.pretty(nghiem))\n",
    "\n"
   ]
  },
  {
   "cell_type": "code",
   "execution_count": 8,
   "id": "2322b096",
   "metadata": {},
   "outputs": [
    {
     "name": "stdout",
     "output_type": "stream",
     "text": [
      "[-24  20]\n",
      "[-24  20]\n"
     ]
    }
   ],
   "source": [
    "import numpy as np\n",
    "\n",
    "A = np.array([[1, 6],\n",
    "              [5, 2]])\n",
    "\n",
    "u = np.array([6, -5])\n",
    "\n",
    "print(A.dot(u))\n",
    "print(-4 * u)\n"
   ]
  },
  {
   "cell_type": "code",
   "execution_count": 9,
   "id": "5f9c402d",
   "metadata": {},
   "outputs": [
    {
     "name": "stdout",
     "output_type": "stream",
     "text": [
      "[-7.000, 3.000]\n",
      "[-7, 3]\n"
     ]
    }
   ],
   "source": [
    "import sympy\n",
    "x, y, Lambda = sympy.symbols('x y Lambda')\n",
    "I = sympy.eye(2)\n",
    "A = sympy.Matrix([[2,3],[3,-6]])\n",
    "phuongtrinh = sympy.Eq(sympy.det(Lambda*I - A), 0)\n",
    "nghiem = sympy.solve(phuongtrinh)\n",
    "print([sympy.N(phantu,4) for phantu in nghiem])\n",
    "print(sympy.pretty(nghiem))\n"
   ]
  },
  {
   "cell_type": "code",
   "execution_count": 10,
   "id": "a3ed62b4",
   "metadata": {},
   "outputs": [
    {
     "name": "stdout",
     "output_type": "stream",
     "text": [
      "{x: 3⋅y}\n"
     ]
    }
   ],
   "source": [
    "import sympy\n",
    "x, y = sympy.symbols('x y')\n",
    "A = sympy.Matrix([[2, 3],\n",
    "                  [3, -6]])\n",
    "I = sympy.eye(2)\n",
    "Lambda = 3\n",
    "H = A - Lambda * I\n",
    "hpt = H * sympy.Matrix([x, y])\n",
    "nghiem = sympy.solve([sympy.Eq(hpt[0], 0), sympy.Eq(hpt[1], 0)], (x, y))\n",
    "print(sympy.pretty(nghiem))\n"
   ]
  },
  {
   "cell_type": "code",
   "execution_count": 11,
   "id": "c861065a",
   "metadata": {},
   "outputs": [
    {
     "name": "stdout",
     "output_type": "stream",
     "text": [
      "[[-0.3  0.9]\n",
      " [ 0.3  0.1]]\n",
      "[[ 2.33333333  9.        ]\n",
      " [-7.          3.        ]]\n",
      "[[ 2.33333333  9.        ]\n",
      " [-7.          3.        ]]\n",
      "[[ 5.03503397e+18  3.50482117e+18]\n",
      " [ 3.50482117e+18 -4.31115581e+18]]\n",
      "[[49  0]\n",
      " [ 0  9]]\n"
     ]
    }
   ],
   "source": [
    "import numpy as np\n",
    "from numpy import linalg as LA\n",
    "\n",
    "A = np.array([[2, 3],\n",
    "              [3, -6]])\n",
    "D = np.array([[-7, 0],\n",
    "              [0, 3]])\n",
    "P = np.array([[-1.0/3, 3],\n",
    "              [1, 1]])\n",
    "\n",
    "P1 = LA.inv(P)\n",
    "print(P1)\n",
    "\n",
    "print(A.dot(P))\n",
    "print(P.dot(D))\n",
    "\n",
    "print(P @ (D ** 1000) @ P1)\n",
    "\n",
    "print(D ** 2)\n"
   ]
  },
  {
   "cell_type": "code",
   "execution_count": 12,
   "id": "976d0e05",
   "metadata": {},
   "outputs": [
    {
     "name": "stdout",
     "output_type": "stream",
     "text": [
      "Cách a: 3.7416573867739413\n",
      "Cách b: 3.7416573867739413\n",
      "Cách c: 3.7416573867739413\n",
      "Cách d: 3.7416573867739413\n"
     ]
    }
   ],
   "source": [
    "# BAI TAP CHUONG 6\n",
    "# BAI 1\n",
    "import numpy as np\n",
    "import math\n",
    "\n",
    "a = np.array([1,2,3])\n",
    "\n",
    "mag_a = np.sqrt(a.dot(a))\n",
    "print(\"Cách a:\", mag_a)\n",
    "\n",
    "mag_b = np.sqrt(a @ a)\n",
    "print(\"Cách b:\", mag_b)\n",
    "\n",
    "mag_c = np.sqrt(np.inner(a,a))\n",
    "print(\"Cách c:\", mag_c)\n",
    "\n",
    "mag = lambda x : math.sqrt(sum(i**2 for i in x))\n",
    "print(\"Cách d:\", mag(a))\n"
   ]
  },
  {
   "cell_type": "code",
   "execution_count": 13,
   "id": "56200158",
   "metadata": {},
   "outputs": [
    {
     "name": "stdout",
     "output_type": "stream",
     "text": [
      "Khoảng cách ||u-v|| = 5.196152422706632\n",
      "Góc (radian) giữa u và v = 0.2257261285527342\n",
      "Phép chiếu trực giao p của u lên v = [1.66233766 2.07792208 2.49350649]\n"
     ]
    }
   ],
   "source": [
    "# BAI TAP CHUONG 6\n",
    "# BAI 2\n",
    "import numpy as np\n",
    "\n",
    "def khoang_cach(u, v):\n",
    "    return np.linalg.norm(u - v)\n",
    "\n",
    "def goc_giua_2_vector(u, v):\n",
    "    cos_theta = np.dot(u, v) / (np.linalg.norm(u) * np.linalg.norm(v))\n",
    "    return np.arccos(cos_theta)\n",
    "\n",
    "def phep_chieu(u, v):\n",
    "    p = (np.dot(u, v) / np.dot(v, v)) * v\n",
    "    return p\n",
    "\n",
    "# Ví dụ thử nghiệm:\n",
    "u = np.array([1, 2, 3])\n",
    "v = np.array([4, 5, 6])\n",
    "\n",
    "print(\"Khoảng cách ||u-v|| =\", khoang_cach(u, v))\n",
    "print(\"Góc (radian) giữa u và v =\", goc_giua_2_vector(u, v))\n",
    "print(\"Phép chiếu trực giao p của u lên v =\", phep_chieu(u, v))\n"
   ]
  }
 ],
 "metadata": {
  "kernelspec": {
   "display_name": ".venv",
   "language": "python",
   "name": "python3"
  },
  "language_info": {
   "codemirror_mode": {
    "name": "ipython",
    "version": 3
   },
   "file_extension": ".py",
   "mimetype": "text/x-python",
   "name": "python",
   "nbconvert_exporter": "python",
   "pygments_lexer": "ipython3",
   "version": "3.13.2"
  }
 },
 "nbformat": 4,
 "nbformat_minor": 5
}
