{
 "cells": [
  {
   "cell_type": "markdown",
   "id": "ce2ffdb4",
   "metadata": {},
   "source": [
    "Thuc Hanh Chuong 3 "
   ]
  },
  {
   "cell_type": "code",
   "execution_count": null,
   "id": "837164f8",
   "metadata": {},
   "outputs": [],
   "source": [
    "#bai 1\n",
    "from scipy import linalg\n",
    "import numpy as np\n",
    "\n",
    "a = np.array([1, 2, 3])\n",
    "b = np.array([(1+9j, 2j, 3j), (4j, 5j, 6j)])\n",
    "c = np.array([[(0.5, 1.5, 10), (3, 2, 1)], [(6, 5, 4), (7, 8, 9)]])\n",
    "\n",
    "A = np.matrix(np.random.random((2, 2)))\n",
    "B = np.asmatrix(b)\n",
    "C = np.mat(np.random.random((10, 5)))\n",
    "D = np.mat([[4, 3], [2, 6]])\n",
    "F = np.eye(3, k=1)\n",
    "\n",
    "F = np.eye(3, k=0)\n",
    "\n",
    "F = np.eye(3, k=-1)\n",
    "\n",
    "print(A)\n",
    "print(B)\n",
    "print(C)\n",
    "print(D)\n",
    "print(F)"
   ]
  }
 ],
 "metadata": {
  "kernelspec": {
   "display_name": ".venv",
   "language": "python",
   "name": "python3"
  },
  "language_info": {
   "name": "python",
   "version": "3.13.2"
  }
 },
 "nbformat": 4,
 "nbformat_minor": 5
}
