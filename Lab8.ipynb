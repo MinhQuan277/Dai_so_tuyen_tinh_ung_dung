{
 "cells": [
  {
   "cell_type": "markdown",
   "id": "50faefcb",
   "metadata": {},
   "source": [
    "CHƯƠNG 8"
   ]
  },
  {
   "cell_type": "code",
   "execution_count": 3,
   "id": "0fb010c0",
   "metadata": {},
   "outputs": [
    {
     "name": "stdout",
     "output_type": "stream",
     "text": [
      "câu a: [ 18 -11   9  -8]\n",
      "câu b: [ 3.  -3.5  4.5 -1. ]\n"
     ]
    }
   ],
   "source": [
    "import numpy as np\n",
    "\n",
    "u = np.array([2, -1, 5, 0])\n",
    "v = np.array([4, 3, 1, -1])\n",
    "w = np.array([-6, 2, 0, 3])\n",
    "\n",
    "x = 2*u - (v + 3*w)\n",
    "print(\"câu a:\", x)\n",
    "\n",
    "x = 0.5*(2*u - v - w)\n",
    "print(\"câu b:\", x)\n"
   ]
  },
  {
   "cell_type": "code",
   "execution_count": 4,
   "id": "af947397",
   "metadata": {},
   "outputs": [
    {
     "name": "stdout",
     "output_type": "stream",
     "text": [
      "Kết quả: [ 1. -2. -1.]\n"
     ]
    }
   ],
   "source": [
    "from numpy import linalg\n",
    "import numpy as np\n",
    "\n",
    "A = np.matrix([[0, -1, 3], [1, 1, 1], [4, 2, 2]])\n",
    "B = np.array([-1, -2, -2])\n",
    "X = np.linalg.solve(A, B)\n",
    "print(\"Kết quả:\", X)\n"
   ]
  },
  {
   "cell_type": "code",
   "execution_count": 6,
   "id": "20e37b5d",
   "metadata": {},
   "outputs": [
    {
     "name": "stdout",
     "output_type": "stream",
     "text": [
      "A không khả nghịch\n",
      "B không khả nghịch\n",
      "0.0\n",
      "0.0\n",
      "1.0\n"
     ]
    }
   ],
   "source": [
    "import numpy as np\n",
    "from numpy import linalg as LA\n",
    "\n",
    "A = np.matrix([[1, 0], [0, 0]])\n",
    "B = np.matrix([[0, 0], [0, 1]])\n",
    "\n",
    "try:\n",
    "    LA.inv(A)\n",
    "except:\n",
    "    print(\"A không khả nghịch\")\n",
    "\n",
    "try:\n",
    "    LA.inv(B)\n",
    "except:\n",
    "    print(\"B không khả nghịch\")\n",
    "\n",
    "try:\n",
    "    LA.inv(A + B)\n",
    "except:\n",
    "    print(\"A + B không khả nghịch\")\n",
    "\n",
    "print(LA.det(A))\n",
    "print(LA.det(B))\n",
    "print(LA.det(A + B))\n"
   ]
  },
  {
   "cell_type": "code",
   "execution_count": 9,
   "id": "78912359",
   "metadata": {},
   "outputs": [
    {
     "name": "stdout",
     "output_type": "stream",
     "text": [
      "Matrix([[x1, y1], [y1, x1]])\n",
      "Matrix([[x1 + x2, y1 + y2], [y1 + y2, x1 + x2]])\n",
      "True\n",
      "Matrix([[c*x, c*y], [c*y, c*x]])\n",
      "True\n"
     ]
    }
   ],
   "source": [
    "import sympy as sp\n",
    "\n",
    "x, y = sp.symbols('x y')\n",
    "A = sp.Matrix([[x, y], [y, x]])\n",
    "\n",
    "x1, y1 = sp.symbols('x1 y1')\n",
    "A1 = sp.Matrix([[x1, y1], [y1, x1]])\n",
    "\n",
    "x2, y2 = sp.symbols('x2 y2')\n",
    "A2 = sp.Matrix([[x2, y2], [y2, x2]])\n",
    "\n",
    "print(A1.T)\n",
    "print((A1 + A2).T)\n",
    "print((A1 + A2).T.equals(A1 + A2))\n",
    "\n",
    "c = sp.symbols('c')\n",
    "print(c * A)\n",
    "print((c * A).T.equals(c * A))\n"
   ]
  },
  {
   "cell_type": "code",
   "execution_count": 10,
   "id": "a036a7d2",
   "metadata": {},
   "outputs": [
    {
     "name": "stdout",
     "output_type": "stream",
     "text": [
      "{a: c + 1, b: -2*c - 1}\n"
     ]
    }
   ],
   "source": [
    "import sympy as sp\n",
    "\n",
    "a, b, c = sp.symbols('a b c')\n",
    "eq1 = sp.Eq(a*1 + b*0 + c*(-1), 1)\n",
    "eq2 = sp.Eq(a*2 + b*1 + c*0, 1)\n",
    "eq3 = sp.Eq(a*3 + b*2 + c*1, 1)\n",
    "\n",
    "sol = sp.solve([eq1, eq2, eq3], (a, b, c))\n",
    "print(sol)\n"
   ]
  },
  {
   "cell_type": "code",
   "execution_count": 12,
   "id": "c51a3fa0",
   "metadata": {},
   "outputs": [
    {
     "data": {
      "text/plain": [
       "{c1: 0, c2: 0, c3: 0}"
      ]
     },
     "execution_count": 12,
     "metadata": {},
     "output_type": "execute_result"
    }
   ],
   "source": [
    "import sympy as sp\n",
    "c1, c2, c3 = sp.symbols('c1 c2 c3')\n",
    "sp.solve([c1-2*c3, 2*c1+c2, 3*c1+2*c2+c3], [c1, c2, c3])\n"
   ]
  },
  {
   "cell_type": "code",
   "execution_count": 14,
   "id": "1d94a7bb",
   "metadata": {},
   "outputs": [
    {
     "data": {
      "text/plain": [
       "{c1: 0, c2: 0}"
      ]
     },
     "execution_count": 14,
     "metadata": {},
     "output_type": "execute_result"
    }
   ],
   "source": [
    "import sympy as sp\n",
    "c1, c2 = sp.symbols('c1 c2')\n",
    "u1, u2 = sp.symbols('u1 u2')\n",
    "sp.solve([c1 + c2 - u1, c1 - c2 - u2])\n",
    "\n",
    "u1 = 0\n",
    "u2 = 0\n",
    "sp.solve([c1 + c2 - u1, c1 - c2 - u2])\n",
    "\n"
   ]
  },
  {
   "cell_type": "code",
   "execution_count": 17,
   "id": "f8ca90ee",
   "metadata": {},
   "outputs": [
    {
     "name": "stdout",
     "output_type": "stream",
     "text": [
      "[[4 4 7 7 5 5 6 6 5 5]\n",
      " [2 7 7 6 6 5 5 4 4 2]]\n"
     ]
    }
   ],
   "source": [
    "import numpy as np \n",
    "P = np.array([[0,0,3,3,1,1,2,2,1,1],[0,5,5,4,4,3,3,2,2,0]])\n",
    "vecdelta = np.array([4,2])\n",
    "P_caua = (P.T + vecdelta).T\n",
    "print(P_caua)"
   ]
  },
  {
   "cell_type": "code",
   "execution_count": null,
   "id": "e5d935ce",
   "metadata": {},
   "outputs": [],
   "source": []
  }
 ],
 "metadata": {
  "kernelspec": {
   "display_name": "Python 3",
   "language": "python",
   "name": "python3"
  },
  "language_info": {
   "codemirror_mode": {
    "name": "ipython",
    "version": 3
   },
   "file_extension": ".py",
   "mimetype": "text/x-python",
   "name": "python",
   "nbconvert_exporter": "python",
   "pygments_lexer": "ipython3",
   "version": "3.13.2"
  }
 },
 "nbformat": 4,
 "nbformat_minor": 5
}
